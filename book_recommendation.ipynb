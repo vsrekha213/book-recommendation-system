{
  "nbformat": 4,
  "nbformat_minor": 0,
  "metadata": {
    "colab": {
      "name": "book_recommendation.ipynb",
      "provenance": []
    },
    "kernelspec": {
      "name": "python3",
      "display_name": "Python 3"
    },
    "accelerator": "GPU"
  },
  "cells": [
    {
      "cell_type": "code",
      "metadata": {
        "id": "QNymow9z-sbc"
      },
      "source": [
        "import pandas as pd\r\n",
        "import numpy as np\r\n",
        "import matplotlib.pyplot as plt"
      ],
      "execution_count": 8,
      "outputs": []
    },
    {
      "cell_type": "code",
      "metadata": {
        "colab": {
          "base_uri": "https://localhost:8080/"
        },
        "id": "wF7JSyNKAP4s",
        "outputId": "8ba8ec90-293d-42bd-bcde-7c34f29d9ac8"
      },
      "source": [
        "ls"
      ],
      "execution_count": 4,
      "outputs": [
        {
          "output_type": "stream",
          "text": [
            "book.zip  \u001b[0m\u001b[01;34msample_data\u001b[0m/\n"
          ],
          "name": "stdout"
        }
      ]
    },
    {
      "cell_type": "code",
      "metadata": {
        "colab": {
          "base_uri": "https://localhost:8080/"
        },
        "id": "tl0dlipTARZj",
        "outputId": "42f0ac63-5272-4a6d-8f33-b0d423dff926"
      },
      "source": [
        "!unzip book.zip"
      ],
      "execution_count": 5,
      "outputs": [
        {
          "output_type": "stream",
          "text": [
            "Archive:  book.zip\n",
            "  inflating: BX-Book-Ratings.csv     \n",
            "  inflating: BX-Books.csv            \n",
            "  inflating: BX-Users.csv            \n"
          ],
          "name": "stdout"
        }
      ]
    },
    {
      "cell_type": "code",
      "metadata": {
        "colab": {
          "base_uri": "https://localhost:8080/"
        },
        "id": "669G7wYQ-38h",
        "outputId": "f80cd306-7538-4e38-ad34-987243645f4f"
      },
      "source": [
        "books = pd.read_csv('BX-Books.csv', sep=';', error_bad_lines=False, encoding=\"latin-1\")\r\n",
        "books.columns = ['ISBN', 'bookTitle', 'bookAuthor', 'yearOfPublication', 'publisher', 'imageUrlS', 'imageUrlM', 'imageUrlL']\r\n",
        "users = pd.read_csv('BX-Users.csv', sep=';', error_bad_lines=False, encoding=\"latin-1\")\r\n",
        "users.columns = ['userID', 'Location', 'Age']\r\n",
        "ratings = pd.read_csv('BX-Book-Ratings.csv', sep=';', error_bad_lines=False, encoding=\"latin-1\")\r\n",
        "ratings.columns = ['userID', 'ISBN', 'bookRating']"
      ],
      "execution_count": 6,
      "outputs": [
        {
          "output_type": "stream",
          "text": [
            "b'Skipping line 6452: expected 8 fields, saw 9\\nSkipping line 43667: expected 8 fields, saw 10\\nSkipping line 51751: expected 8 fields, saw 9\\n'\n",
            "b'Skipping line 92038: expected 8 fields, saw 9\\nSkipping line 104319: expected 8 fields, saw 9\\nSkipping line 121768: expected 8 fields, saw 9\\n'\n",
            "b'Skipping line 144058: expected 8 fields, saw 9\\nSkipping line 150789: expected 8 fields, saw 9\\nSkipping line 157128: expected 8 fields, saw 9\\nSkipping line 180189: expected 8 fields, saw 9\\nSkipping line 185738: expected 8 fields, saw 9\\n'\n",
            "b'Skipping line 209388: expected 8 fields, saw 9\\nSkipping line 220626: expected 8 fields, saw 9\\nSkipping line 227933: expected 8 fields, saw 11\\nSkipping line 228957: expected 8 fields, saw 10\\nSkipping line 245933: expected 8 fields, saw 9\\nSkipping line 251296: expected 8 fields, saw 9\\nSkipping line 259941: expected 8 fields, saw 9\\nSkipping line 261529: expected 8 fields, saw 9\\n'\n",
            "/usr/local/lib/python3.6/dist-packages/IPython/core/interactiveshell.py:2718: DtypeWarning: Columns (3) have mixed types.Specify dtype option on import or set low_memory=False.\n",
            "  interactivity=interactivity, compiler=compiler, result=result)\n"
          ],
          "name": "stderr"
        }
      ]
    },
    {
      "cell_type": "code",
      "metadata": {
        "colab": {
          "base_uri": "https://localhost:8080/",
          "height": 310
        },
        "id": "dSMrJNRWAdO6",
        "outputId": "cac9e8ee-c723-43c3-a162-26c7a8bc09cd"
      },
      "source": [
        "users.Age.hist(bins=[0, 10, 20, 30, 40, 50, 100])\r\n",
        "plt.title('Age Distribution\\n')\r\n",
        "plt.xlabel('Age')\r\n",
        "plt.ylabel('Count')\r\n",
        "plt.show()"
      ],
      "execution_count": 9,
      "outputs": [
        {
          "output_type": "display_data",
          "data": {
            "image/png": "[encoded data removed]",
            "text/plain": [
              "<Figure size 432x288 with 1 Axes>"
            ]
          },
          "metadata": {
            "tags": [],
            "needs_background": "light"
          }
        }
      ]
    },
    {
      "cell_type": "code",
      "metadata": {
        "colab": {
          "base_uri": "https://localhost:8080/",
          "height": 310
        },
        "id": "vFPN7OWLAipp",
        "outputId": "6ebe7d16-819c-46c2-9644-f674f09f2488"
      },
      "source": [
        "ratings.bookRating.hist(bins=[0,1,2,3,4,5,6,7,8,9,10])\r\n",
        "plt.title('Age Distribution\\n')\r\n",
        "plt.xlabel('Age')\r\n",
        "plt.ylabel('Count')\r\n",
        "plt.show()"
      ],
      "execution_count": 14,
      "outputs": [
        {
          "output_type": "display_data",
          "data": {
            "image/png": "[encoded data removed]",
            "text/plain": [
              "<Figure size 432x288 with 1 Axes>"
            ]
          },
          "metadata": {
            "tags": [],
            "needs_background": "light"
          }
        }
      ]
    },
    {
      "cell_type": "code",
      "metadata": {
        "id": "0NoLpQXlAt44"
      },
      "source": [
        "counts1 = ratings['userID'].value_counts()\r\n",
        "ratings = ratings[ratings['userID'].isin(counts1[counts1 >= 200].index)]\r\n",
        "counts = ratings['bookRating'].value_counts()\r\n",
        "ratings = ratings[ratings['bookRating'].isin(counts[counts >= 100].index)]"
      ],
      "execution_count": 20,
      "outputs": []
    },
    {
      "cell_type": "code",
      "metadata": {
        "id": "F8D6aI-NBR1d"
      },
      "source": [
        "combine = pd.merge(ratings,books,on='ISBN')"
      ],
      "execution_count": 24,
      "outputs": []
    },
    {
      "cell_type": "code",
      "metadata": {
        "colab": {
          "base_uri": "https://localhost:8080/",
          "height": 295
        },
        "id": "ZpKhIXCtDhGd",
        "outputId": "cb2a76c9-fbab-4759-b248-d799a9784567"
      },
      "source": [
        "combine.head(2)"
      ],
      "execution_count": 28,
      "outputs": [
        {
          "output_type": "execute_result",
          "data": {
            "text/html": [
              "<div>\n",
              "<style scoped>\n",
              "    .dataframe tbody tr th:only-of-type {\n",
              "        vertical-align: middle;\n",
              "    }\n",
              "\n",
              "    .dataframe tbody tr th {\n",
              "        vertical-align: top;\n",
              "    }\n",
              "\n",
              "    .dataframe thead th {\n",
              "        text-align: right;\n",
              "    }\n",
              "</style>\n",
              "<table border=\"1\" class=\"dataframe\">\n",
              "  <thead>\n",
              "    <tr style=\"text-align: right;\">\n",
              "      <th></th>\n",
              "      <th>userID</th>\n",
              "      <th>ISBN</th>\n",
              "      <th>bookRating</th>\n",
              "      <th>bookTitle</th>\n",
              "      <th>bookAuthor</th>\n",
              "      <th>yearOfPublication</th>\n",
              "      <th>publisher</th>\n",
              "      <th>imageUrlS</th>\n",
              "      <th>imageUrlM</th>\n",
              "      <th>imageUrlL</th>\n",
              "    </tr>\n",
              "  </thead>\n",
              "  <tbody>\n",
              "    <tr>\n",
              "      <th>0</th>\n",
              "      <td>277427</td>\n",
              "      <td>002542730X</td>\n",
              "      <td>10</td>\n",
              "      <td>Politically Correct Bedtime Stories: Modern Ta...</td>\n",
              "      <td>James Finn Garner</td>\n",
              "      <td>1994</td>\n",
              "      <td>John Wiley &amp;amp; Sons Inc</td>\n",
              "      <td>http://images.amazon.com/images/P/002542730X.0...</td>\n",
              "      <td>http://images.amazon.com/images/P/002542730X.0...</td>\n",
              "      <td>http://images.amazon.com/images/P/002542730X.0...</td>\n",
              "    </tr>\n",
              "    <tr>\n",
              "      <th>1</th>\n",
              "      <td>3363</td>\n",
              "      <td>002542730X</td>\n",
              "      <td>0</td>\n",
              "      <td>Politically Correct Bedtime Stories: Modern Ta...</td>\n",
              "      <td>James Finn Garner</td>\n",
              "      <td>1994</td>\n",
              "      <td>John Wiley &amp;amp; Sons Inc</td>\n",
              "      <td>http://images.amazon.com/images/P/002542730X.0...</td>\n",
              "      <td>http://images.amazon.com/images/P/002542730X.0...</td>\n",
              "      <td>http://images.amazon.com/images/P/002542730X.0...</td>\n",
              "    </tr>\n",
              "  </tbody>\n",
              "</table>\n",
              "</div>"
            ],
            "text/plain": [
              "   userID  ...                                          imageUrlL\n",
              "0  277427  ...  http://images.amazon.com/images/P/002542730X.0...\n",
              "1    3363  ...  http://images.amazon.com/images/P/002542730X.0...\n",
              "\n",
              "[2 rows x 10 columns]"
            ]
          },
          "metadata": {
            "tags": []
          },
          "execution_count": 28
        }
      ]
    },
    {
      "cell_type": "code",
      "metadata": {
        "id": "SoIhGAw7Cmb7"
      },
      "source": [
        "drop = ['yearOfPublication', 'publisher', 'bookAuthor', 'imageUrlS', 'imageUrlM', 'imageUrlL']\r\n",
        "combine.drop(drop,axis=1,inplace=True)\r\n"
      ],
      "execution_count": 35,
      "outputs": []
    },
    {
      "cell_type": "code",
      "metadata": {
        "colab": {
          "base_uri": "https://localhost:8080/",
          "height": 106
        },
        "id": "96LQnJo8DAsm",
        "outputId": "416c3a08-b443-4863-f586-eec98fabf0c7"
      },
      "source": [
        "book_ratingCount = (combine.\r\n",
        "     groupby(by = ['bookTitle'])['bookRating'].\r\n",
        "     count().\r\n",
        "     reset_index().\r\n",
        "     rename(columns = {'bookRating': 'totalRatingCount'})\r\n",
        "     [['bookTitle', 'totalRatingCount']]\r\n",
        "    )\r\n",
        "book_ratingCount.head()\r\n",
        "ratingcount = combine.merge(book_ratingCount, left_on = 'bookTitle', right_on = 'bookTitle', how = 'left')\r\n",
        "ratingcount.head(2)"
      ],
      "execution_count": 36,
      "outputs": [
        {
          "output_type": "execute_result",
          "data": {
            "text/html": [
              "<div>\n",
              "<style scoped>\n",
              "    .dataframe tbody tr th:only-of-type {\n",
              "        vertical-align: middle;\n",
              "    }\n",
              "\n",
              "    .dataframe tbody tr th {\n",
              "        vertical-align: top;\n",
              "    }\n",
              "\n",
              "    .dataframe thead th {\n",
              "        text-align: right;\n",
              "    }\n",
              "</style>\n",
              "<table border=\"1\" class=\"dataframe\">\n",
              "  <thead>\n",
              "    <tr style=\"text-align: right;\">\n",
              "      <th></th>\n",
              "      <th>userID</th>\n",
              "      <th>ISBN</th>\n",
              "      <th>bookRating</th>\n",
              "      <th>bookTitle</th>\n",
              "      <th>totalRatingCount</th>\n",
              "    </tr>\n",
              "  </thead>\n",
              "  <tbody>\n",
              "    <tr>\n",
              "      <th>0</th>\n",
              "      <td>277427</td>\n",
              "      <td>002542730X</td>\n",
              "      <td>10</td>\n",
              "      <td>Politically Correct Bedtime Stories: Modern Ta...</td>\n",
              "      <td>82</td>\n",
              "    </tr>\n",
              "    <tr>\n",
              "      <th>1</th>\n",
              "      <td>3363</td>\n",
              "      <td>002542730X</td>\n",
              "      <td>0</td>\n",
              "      <td>Politically Correct Bedtime Stories: Modern Ta...</td>\n",
              "      <td>82</td>\n",
              "    </tr>\n",
              "  </tbody>\n",
              "</table>\n",
              "</div>"
            ],
            "text/plain": [
              "   userID  ... totalRatingCount\n",
              "0  277427  ...               82\n",
              "1    3363  ...               82\n",
              "\n",
              "[2 rows x 5 columns]"
            ]
          },
          "metadata": {
            "tags": []
          },
          "execution_count": 36
        }
      ]
    },
    {
      "cell_type": "code",
      "metadata": {
        "colab": {
          "base_uri": "https://localhost:8080/",
          "height": 106
        },
        "id": "F6AT1qZAIQPz",
        "outputId": "6f8755b1-4bca-489c-8698-1a436bacab68"
      },
      "source": [
        "ratingcount.head(2)"
      ],
      "execution_count": 47,
      "outputs": [
        {
          "output_type": "execute_result",
          "data": {
            "text/html": [
              "<div>\n",
              "<style scoped>\n",
              "    .dataframe tbody tr th:only-of-type {\n",
              "        vertical-align: middle;\n",
              "    }\n",
              "\n",
              "    .dataframe tbody tr th {\n",
              "        vertical-align: top;\n",
              "    }\n",
              "\n",
              "    .dataframe thead th {\n",
              "        text-align: right;\n",
              "    }\n",
              "</style>\n",
              "<table border=\"1\" class=\"dataframe\">\n",
              "  <thead>\n",
              "    <tr style=\"text-align: right;\">\n",
              "      <th></th>\n",
              "      <th>userID</th>\n",
              "      <th>ISBN</th>\n",
              "      <th>bookRating</th>\n",
              "      <th>bookTitle</th>\n",
              "      <th>totalRatingCount</th>\n",
              "    </tr>\n",
              "  </thead>\n",
              "  <tbody>\n",
              "    <tr>\n",
              "      <th>0</th>\n",
              "      <td>277427</td>\n",
              "      <td>002542730X</td>\n",
              "      <td>10</td>\n",
              "      <td>Politically Correct Bedtime Stories: Modern Ta...</td>\n",
              "      <td>82</td>\n",
              "    </tr>\n",
              "    <tr>\n",
              "      <th>1</th>\n",
              "      <td>3363</td>\n",
              "      <td>002542730X</td>\n",
              "      <td>0</td>\n",
              "      <td>Politically Correct Bedtime Stories: Modern Ta...</td>\n",
              "      <td>82</td>\n",
              "    </tr>\n",
              "  </tbody>\n",
              "</table>\n",
              "</div>"
            ],
            "text/plain": [
              "   userID  ... totalRatingCount\n",
              "0  277427  ...               82\n",
              "1    3363  ...               82\n",
              "\n",
              "[2 rows x 5 columns]"
            ]
          },
          "metadata": {
            "tags": []
          },
          "execution_count": 47
        }
      ]
    },
    {
      "cell_type": "code",
      "metadata": {
        "id": "YYMwNLeJKYqA"
      },
      "source": [
        "thresh = 50\r\n",
        "book_filter = ratingcount.query('totalRatingCount >= @thresh')"
      ],
      "execution_count": 48,
      "outputs": []
    },
    {
      "cell_type": "code",
      "metadata": {
        "colab": {
          "base_uri": "https://localhost:8080/",
          "height": 106
        },
        "id": "p04KHnorK9Nb",
        "outputId": "6404ecdc-06ab-4136-a4ee-7a0a5fd6e3ef"
      },
      "source": [
        "book_filter.head(2)"
      ],
      "execution_count": 49,
      "outputs": [
        {
          "output_type": "execute_result",
          "data": {
            "text/html": [
              "<div>\n",
              "<style scoped>\n",
              "    .dataframe tbody tr th:only-of-type {\n",
              "        vertical-align: middle;\n",
              "    }\n",
              "\n",
              "    .dataframe tbody tr th {\n",
              "        vertical-align: top;\n",
              "    }\n",
              "\n",
              "    .dataframe thead th {\n",
              "        text-align: right;\n",
              "    }\n",
              "</style>\n",
              "<table border=\"1\" class=\"dataframe\">\n",
              "  <thead>\n",
              "    <tr style=\"text-align: right;\">\n",
              "      <th></th>\n",
              "      <th>userID</th>\n",
              "      <th>ISBN</th>\n",
              "      <th>bookRating</th>\n",
              "      <th>bookTitle</th>\n",
              "      <th>totalRatingCount</th>\n",
              "    </tr>\n",
              "  </thead>\n",
              "  <tbody>\n",
              "    <tr>\n",
              "      <th>0</th>\n",
              "      <td>277427</td>\n",
              "      <td>002542730X</td>\n",
              "      <td>10</td>\n",
              "      <td>Politically Correct Bedtime Stories: Modern Ta...</td>\n",
              "      <td>82</td>\n",
              "    </tr>\n",
              "    <tr>\n",
              "      <th>1</th>\n",
              "      <td>3363</td>\n",
              "      <td>002542730X</td>\n",
              "      <td>0</td>\n",
              "      <td>Politically Correct Bedtime Stories: Modern Ta...</td>\n",
              "      <td>82</td>\n",
              "    </tr>\n",
              "  </tbody>\n",
              "</table>\n",
              "</div>"
            ],
            "text/plain": [
              "   userID  ... totalRatingCount\n",
              "0  277427  ...               82\n",
              "1    3363  ...               82\n",
              "\n",
              "[2 rows x 5 columns]"
            ]
          },
          "metadata": {
            "tags": []
          },
          "execution_count": 49
        }
      ]
    },
    {
      "cell_type": "code",
      "metadata": {
        "id": "TgZfAsCRLL_R"
      },
      "source": [
        "book_regional = book_filter.merge(users,left_on = 'userID',right_on='userID',how='left')"
      ],
      "execution_count": 50,
      "outputs": []
    },
    {
      "cell_type": "code",
      "metadata": {
        "colab": {
          "base_uri": "https://localhost:8080/",
          "height": 399
        },
        "id": "-5wDgR37L0Sd",
        "outputId": "b734766f-b92c-452c-dbc7-5db04ab88d77"
      },
      "source": [
        "book_regional"
      ],
      "execution_count": 51,
      "outputs": [
        {
          "output_type": "execute_result",
          "data": {
            "text/html": [
              "<div>\n",
              "<style scoped>\n",
              "    .dataframe tbody tr th:only-of-type {\n",
              "        vertical-align: middle;\n",
              "    }\n",
              "\n",
              "    .dataframe tbody tr th {\n",
              "        vertical-align: top;\n",
              "    }\n",
              "\n",
              "    .dataframe thead th {\n",
              "        text-align: right;\n",
              "    }\n",
              "</style>\n",
              "<table border=\"1\" class=\"dataframe\">\n",
              "  <thead>\n",
              "    <tr style=\"text-align: right;\">\n",
              "      <th></th>\n",
              "      <th>userID</th>\n",
              "      <th>ISBN</th>\n",
              "      <th>bookRating</th>\n",
              "      <th>bookTitle</th>\n",
              "      <th>totalRatingCount</th>\n",
              "      <th>Location</th>\n",
              "      <th>Age</th>\n",
              "    </tr>\n",
              "  </thead>\n",
              "  <tbody>\n",
              "    <tr>\n",
              "      <th>0</th>\n",
              "      <td>277427</td>\n",
              "      <td>002542730X</td>\n",
              "      <td>10</td>\n",
              "      <td>Politically Correct Bedtime Stories: Modern Ta...</td>\n",
              "      <td>82</td>\n",
              "      <td>gilbert, arizona, usa</td>\n",
              "      <td>48.0</td>\n",
              "    </tr>\n",
              "    <tr>\n",
              "      <th>1</th>\n",
              "      <td>3363</td>\n",
              "      <td>002542730X</td>\n",
              "      <td>0</td>\n",
              "      <td>Politically Correct Bedtime Stories: Modern Ta...</td>\n",
              "      <td>82</td>\n",
              "      <td>knoxville, tennessee, usa</td>\n",
              "      <td>29.0</td>\n",
              "    </tr>\n",
              "    <tr>\n",
              "      <th>2</th>\n",
              "      <td>11676</td>\n",
              "      <td>002542730X</td>\n",
              "      <td>6</td>\n",
              "      <td>Politically Correct Bedtime Stories: Modern Ta...</td>\n",
              "      <td>82</td>\n",
              "      <td>n/a, n/a, n/a</td>\n",
              "      <td>NaN</td>\n",
              "    </tr>\n",
              "    <tr>\n",
              "      <th>3</th>\n",
              "      <td>12538</td>\n",
              "      <td>002542730X</td>\n",
              "      <td>10</td>\n",
              "      <td>Politically Correct Bedtime Stories: Modern Ta...</td>\n",
              "      <td>82</td>\n",
              "      <td>byron, minnesota, usa</td>\n",
              "      <td>18.0</td>\n",
              "    </tr>\n",
              "    <tr>\n",
              "      <th>4</th>\n",
              "      <td>13552</td>\n",
              "      <td>002542730X</td>\n",
              "      <td>0</td>\n",
              "      <td>Politically Correct Bedtime Stories: Modern Ta...</td>\n",
              "      <td>82</td>\n",
              "      <td>cordova, tennessee, usa</td>\n",
              "      <td>32.0</td>\n",
              "    </tr>\n",
              "    <tr>\n",
              "      <th>...</th>\n",
              "      <td>...</td>\n",
              "      <td>...</td>\n",
              "      <td>...</td>\n",
              "      <td>...</td>\n",
              "      <td>...</td>\n",
              "      <td>...</td>\n",
              "      <td>...</td>\n",
              "    </tr>\n",
              "    <tr>\n",
              "      <th>62144</th>\n",
              "      <td>269566</td>\n",
              "      <td>0670809381</td>\n",
              "      <td>0</td>\n",
              "      <td>Echoes</td>\n",
              "      <td>54</td>\n",
              "      <td>seattle, washington, usa</td>\n",
              "      <td>9.0</td>\n",
              "    </tr>\n",
              "    <tr>\n",
              "      <th>62145</th>\n",
              "      <td>271284</td>\n",
              "      <td>0440910927</td>\n",
              "      <td>0</td>\n",
              "      <td>The Rainmaker</td>\n",
              "      <td>180</td>\n",
              "      <td>alexandria, virginia, usa</td>\n",
              "      <td>50.0</td>\n",
              "    </tr>\n",
              "    <tr>\n",
              "      <th>62146</th>\n",
              "      <td>271705</td>\n",
              "      <td>B0001PIOX4</td>\n",
              "      <td>0</td>\n",
              "      <td>Fahrenheit 451</td>\n",
              "      <td>119</td>\n",
              "      <td>atlanta, georgia, usa</td>\n",
              "      <td>25.0</td>\n",
              "    </tr>\n",
              "    <tr>\n",
              "      <th>62147</th>\n",
              "      <td>274808</td>\n",
              "      <td>0449701913</td>\n",
              "      <td>0</td>\n",
              "      <td>Homecoming</td>\n",
              "      <td>61</td>\n",
              "      <td>paynesville, , usa</td>\n",
              "      <td>17.0</td>\n",
              "    </tr>\n",
              "    <tr>\n",
              "      <th>62148</th>\n",
              "      <td>275970</td>\n",
              "      <td>1586210661</td>\n",
              "      <td>9</td>\n",
              "      <td>Me Talk Pretty One Day</td>\n",
              "      <td>146</td>\n",
              "      <td>pittsburgh, pennsylvania, usa</td>\n",
              "      <td>46.0</td>\n",
              "    </tr>\n",
              "  </tbody>\n",
              "</table>\n",
              "<p>62149 rows × 7 columns</p>\n",
              "</div>"
            ],
            "text/plain": [
              "       userID        ISBN  ...                       Location   Age\n",
              "0      277427  002542730X  ...          gilbert, arizona, usa  48.0\n",
              "1        3363  002542730X  ...      knoxville, tennessee, usa  29.0\n",
              "2       11676  002542730X  ...                  n/a, n/a, n/a   NaN\n",
              "3       12538  002542730X  ...          byron, minnesota, usa  18.0\n",
              "4       13552  002542730X  ...        cordova, tennessee, usa  32.0\n",
              "...       ...         ...  ...                            ...   ...\n",
              "62144  269566  0670809381  ...       seattle, washington, usa   9.0\n",
              "62145  271284  0440910927  ...      alexandria, virginia, usa  50.0\n",
              "62146  271705  B0001PIOX4  ...          atlanta, georgia, usa  25.0\n",
              "62147  274808  0449701913  ...             paynesville, , usa  17.0\n",
              "62148  275970  1586210661  ...  pittsburgh, pennsylvania, usa  46.0\n",
              "\n",
              "[62149 rows x 7 columns]"
            ]
          },
          "metadata": {
            "tags": []
          },
          "execution_count": 51
        }
      ]
    },
    {
      "cell_type": "code",
      "metadata": {
        "colab": {
          "base_uri": "https://localhost:8080/"
        },
        "id": "uuQRYiJHL1l_",
        "outputId": "29ae9946-c283-4557-d930-988385492e4f"
      },
      "source": [
        "book_regional.isnull().sum()"
      ],
      "execution_count": 61,
      "outputs": [
        {
          "output_type": "execute_result",
          "data": {
            "text/plain": [
              "userID              0\n",
              "ISBN                0\n",
              "bookRating          0\n",
              "bookTitle           0\n",
              "totalRatingCount    0\n",
              "Location            0\n",
              "Age                 0\n",
              "dtype: int64"
            ]
          },
          "metadata": {
            "tags": []
          },
          "execution_count": 61
        }
      ]
    },
    {
      "cell_type": "code",
      "metadata": {
        "colab": {
          "base_uri": "https://localhost:8080/"
        },
        "id": "qxOqs3djL6Yh",
        "outputId": "33a3a824-250b-4c5e-ad11-709b8ad57218"
      },
      "source": [
        "book_regional.shape"
      ],
      "execution_count": 57,
      "outputs": [
        {
          "output_type": "execute_result",
          "data": {
            "text/plain": [
              "(62149, 7)"
            ]
          },
          "metadata": {
            "tags": []
          },
          "execution_count": 57
        }
      ]
    },
    {
      "cell_type": "code",
      "metadata": {
        "id": "B79aSG3DN9W3"
      },
      "source": [
        "book_regional['Age'].fillna(book_regional['Age'].mean(),inplace=True)"
      ],
      "execution_count": 60,
      "outputs": []
    },
    {
      "cell_type": "code",
      "metadata": {
        "id": "FdBqZ8jHONoS"
      },
      "source": [
        "from scipy.sparse import csr_matrix\r\n"
      ],
      "execution_count": 62,
      "outputs": []
    },
    {
      "cell_type": "code",
      "metadata": {
        "id": "7jm19ivlODcV"
      },
      "source": [
        "book_regional = book_regional.drop_duplicates(['userID', 'bookTitle'])\r\n"
      ],
      "execution_count": 64,
      "outputs": []
    },
    {
      "cell_type": "code",
      "metadata": {
        "id": "onjzoth0U0l3"
      },
      "source": [
        "rating_pivot = book_regional.pivot(index = 'bookTitle', columns = 'userID', values = 'bookRating').fillna(0)\r\n",
        "rating_matrix = csr_matrix(rating_pivot.values)"
      ],
      "execution_count": 65,
      "outputs": []
    },
    {
      "cell_type": "code",
      "metadata": {
        "colab": {
          "base_uri": "https://localhost:8080/"
        },
        "id": "XlpaKhEwV7q3",
        "outputId": "0a76043c-dd2e-4e2b-e959-18ec32b7d9f4"
      },
      "source": [
        "from sklearn.neighbors import NearestNeighbors\r\n",
        "\r\n",
        "\r\n",
        "model_knn = NearestNeighbors(metric = 'cosine', algorithm = 'brute')\r\n",
        "model_knn.fit(rating_matrix)"
      ],
      "execution_count": 67,
      "outputs": [
        {
          "output_type": "execute_result",
          "data": {
            "text/plain": [
              "NearestNeighbors(algorithm='brute', leaf_size=30, metric='cosine',\n",
              "                 metric_params=None, n_jobs=None, n_neighbors=5, p=2,\n",
              "                 radius=1.0)"
            ]
          },
          "metadata": {
            "tags": []
          },
          "execution_count": 67
        }
      ]
    },
    {
      "cell_type": "code",
      "metadata": {
        "id": "rZ2_iCppc5si"
      },
      "source": [
        ""
      ],
      "execution_count": null,
      "outputs": []
    },
    {
      "cell_type": "code",
      "metadata": {
        "colab": {
          "base_uri": "https://localhost:8080/"
        },
        "id": "pOLqfgDFWKeo",
        "outputId": "d26f58ad-1732-4022-8490-cbe0f84d0fb6"
      },
      "source": [
        "query_index = int(input('ENTER YOU USER ID'))\r\n",
        "print(query_index)\r\n",
        "distances, indices = model_knn.kneighbors(rating_pivot.iloc[query_index,:].values.reshape(1, -1), n_neighbors = 10)\r\n",
        "print(distances.flatten(),indices)"
      ],
      "execution_count": 80,
      "outputs": [
        {
          "output_type": "stream",
          "text": [
            "ENTER YOU USER ID350\n",
            "350\n",
            "[0.         0.52565709 0.60275635 0.77682449 0.79025155 0.7971258\n",
            " 0.80063708 0.80400984 0.80967677 0.80971339] [[350 491 613 157 719 682 125  75 309 391]]\n"
          ],
          "name": "stdout"
        }
      ]
    },
    {
      "cell_type": "code",
      "metadata": {
        "colab": {
          "base_uri": "https://localhost:8080/"
        },
        "id": "J2hDV63OYRme",
        "outputId": "cbbccfea-df17-4a27-a384-e15a9978623e"
      },
      "source": [
        "for i in range(0, len(distances.flatten())):\r\n",
        "    if i == 0:\r\n",
        "        print('Recommendations for {0}:\\n'.format(rating_pivot.index[query_index]))\r\n",
        "    else:\r\n",
        "        print('{0}: {1}, with distance of {2}:'.format(i, rating_pivot.index[indices.flatten()[i]], distances.flatten()[i]))"
      ],
      "execution_count": 81,
      "outputs": [
        {
          "output_type": "stream",
          "text": [
            "Recommendations for Morality for Beautiful Girls (No.1 Ladies Detective Agency):\n",
            "\n",
            "1: Tears of the Giraffe (No.1 Ladies Detective Agency), with distance of 0.5256570859844063:\n",
            "2: The No. 1 Ladies' Detective Agency (Today Show Book Club #8), with distance of 0.6027563545814497:\n",
            "3: Digital Fortress : A Thriller, with distance of 0.7768244900433771:\n",
            "4: Welcome to the World, Baby Girl!, with distance of 0.790251547305299:\n",
            "5: Three Junes, with distance of 0.7971258039824494:\n",
            "6: Confessions of an Ugly Stepsister : A Novel, with distance of 0.8006370813827693:\n",
            "7: Big Cherry Holler: A Big Stone Gap Novel (Ballantine Reader's Circle), with distance of 0.8040098427374347:\n",
            "8: Lamb : The Gospel According to Biff, Christ's Childhood Pal, with distance of 0.8096767687325982:\n",
            "9: Pigs in Heaven, with distance of 0.8097133926337127:\n"
          ],
          "name": "stdout"
        }
      ]
    },
    {
      "cell_type": "code",
      "metadata": {
        "id": "VITN33-naeBN"
      },
      "source": [
        "import pickle\r\n",
        "Pkl_Filename = \"book.pkl\"  \r\n",
        "\r\n",
        "\r\n",
        "with open(Pkl_Filename, 'wb') as file:  \r\n",
        "    pickle.dump(model_knn, file)\r\n"
      ],
      "execution_count": 79,
      "outputs": []
    }
  ]
}